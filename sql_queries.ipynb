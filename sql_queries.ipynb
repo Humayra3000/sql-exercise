{
 "cells": [
  {
   "cell_type": "code",
   "execution_count": 1,
   "metadata": {},
   "outputs": [
    {
     "name": "stdout",
     "output_type": "stream",
     "text": [
      "Bookings\n",
      "Facilities\n",
      "Members\n"
     ]
    }
   ],
   "source": [
    "import sqlite3\n",
    "\n",
    "# Connect to the SQLite database\n",
    "conn = sqlite3.connect('sqlite.db')\n",
    "\n",
    "# Create a cursor object\n",
    "cursor = conn.cursor()\n",
    "\n",
    "# Query to list all tables\n",
    "cursor.execute(\"SELECT name FROM sqlite_master WHERE type='table';\")\n",
    "\n",
    "# Fetch all results\n",
    "tables = cursor.fetchall()\n",
    "\n",
    "# Print the list of tables\n",
    "for table in tables:\n",
    "    print(table[0])\n",
    "\n",
    "# Close the connection\n",
    "conn.close()"
   ]
  },
  {
   "cell_type": "code",
   "execution_count": 2,
   "metadata": {},
   "outputs": [
    {
     "name": "stdout",
     "output_type": "stream",
     "text": [
      "(0, 3, 1, '2012-07-03 11:00:00', 2)\n",
      "(1, 4, 1, '2012-07-03 08:00:00', 2)\n",
      "(2, 6, 0, '2012-07-03 18:00:00', 2)\n",
      "(3, 7, 1, '2012-07-03 19:00:00', 2)\n",
      "(4, 8, 1, '2012-07-03 10:00:00', 1)\n",
      "(5, 8, 1, '2012-07-03 15:00:00', 1)\n",
      "(6, 0, 2, '2012-07-04 09:00:00', 3)\n",
      "(7, 0, 2, '2012-07-04 15:00:00', 3)\n",
      "(8, 4, 3, '2012-07-04 13:30:00', 2)\n",
      "(9, 4, 0, '2012-07-04 15:00:00', 2)\n"
     ]
    }
   ],
   "source": [
    "# Reconnect to the SQLite database\n",
    "conn = sqlite3.connect('sqlite.db')\n",
    "\n",
    "# Create a cursor object\n",
    "cursor = conn.cursor()\n",
    "\n",
    "# Query to select the first 10 rows from the Bookings table\n",
    "cursor.execute(\"SELECT * FROM Bookings LIMIT 10;\")\n",
    "\n",
    "# Fetch all results\n",
    "bookings = cursor.fetchall()\n",
    "\n",
    "# Print the results\n",
    "for booking in bookings:\n",
    "    print(booking)\n",
    "\n",
    "# Close the connection\n",
    "conn.close()"
   ]
  },
  {
   "cell_type": "code",
   "execution_count": null,
   "metadata": {},
   "outputs": [],
   "source": []
  }
 ],
 "metadata": {
  "kernelspec": {
   "display_name": "Python 3",
   "language": "python",
   "name": "python3"
  },
  "language_info": {
   "codemirror_mode": {
    "name": "ipython",
    "version": 3
   },
   "file_extension": ".py",
   "mimetype": "text/x-python",
   "name": "python",
   "nbconvert_exporter": "python",
   "pygments_lexer": "ipython3",
   "version": "3.12.1"
  }
 },
 "nbformat": 4,
 "nbformat_minor": 2
}
